{
 "cells": [
  {
   "cell_type": "code",
   "execution_count": 1,
   "metadata": {},
   "outputs": [
    {
     "name": "stderr",
     "output_type": "stream",
     "text": [
      "RDKit WARNING: [19:59:08] Enabling RDKit 2019.09.3 jupyter extensions\n"
     ]
    }
   ],
   "source": [
    "import pandas as pd\n",
    "import mysql.connector as sql\n",
    "import seaborn as sns\n",
    "import numpy as np\n",
    "from rdkit.Chem.Draw import MolsToGridImage\n",
    "from rdkit import Chem\n",
    "from ipywidgets import interact\n",
    "import math"
   ]
  },
  {
   "cell_type": "markdown",
   "metadata": {},
   "source": [
    "The next three cells reqire a connection to a local version of the ChEMBL database.  If you don't have a local version of ChEMBL, you can skip the next three cells and load the csv file with data below. "
   ]
  },
  {
   "cell_type": "code",
   "execution_count": 2,
   "metadata": {},
   "outputs": [],
   "source": [
    "hostname = 'localhost'\n",
    "database = 'chembl_27'\n",
    "user = 'pwalters'\n",
    "password = 'imnottellin'\n",
    "con = sql.connect(host=hostname, database=database, user=user, password=password)"
   ]
  },
  {
   "cell_type": "code",
   "execution_count": 3,
   "metadata": {},
   "outputs": [],
   "source": [
    "query = \"\"\"select cs.canonical_smiles, cs.molregno, usan_tbl.synonyms, act.assay_id, act.standard_value, act.standard_type, act.standard_units from activities act\n",
    "    join compound_structures cs on cs.molregno = act.molregno\n",
    "    join assays a on act.assay_id = a.assay_id\n",
    "    join source s on a.src_id = s.src_id\n",
    "    left join (select molregno, synonyms from molecule_synonyms where syn_type = 'USAN') as usan_tbl on usan_tbl.molregno = cs.molregno\n",
    "    where src_description = 'SARS-CoV-2 Screening Data'\"\"\""
   ]
  },
  {
   "cell_type": "code",
   "execution_count": 4,
   "metadata": {},
   "outputs": [],
   "source": [
    "df = pd.read_sql(query,con=con)"
   ]
  },
  {
   "cell_type": "markdown",
   "metadata": {},
   "source": [
    "If you don't have a local version of the ChEMBL database, just load the data from a csv file.  Skip the cell below if you executed the database query above. "
   ]
  },
  {
   "cell_type": "code",
   "execution_count": 5,
   "metadata": {},
   "outputs": [],
   "source": [
    "df = pd.read_csv(\"ChEMBL_SARS-Cov-2_Screening.csv\")"
   ]
  },
  {
   "cell_type": "markdown",
   "metadata": {},
   "source": [
    "See how many rows we have retrieved"
   ]
  },
  {
   "cell_type": "code",
   "execution_count": 6,
   "metadata": {},
   "outputs": [
    {
     "data": {
      "text/plain": [
       "(9785, 7)"
      ]
     },
     "execution_count": 6,
     "metadata": {},
     "output_type": "execute_result"
    }
   ],
   "source": [
    "df.shape"
   ]
  },
  {
   "cell_type": "markdown",
   "metadata": {},
   "source": [
    "Take a look at the dataframe"
   ]
  },
  {
   "cell_type": "code",
   "execution_count": 7,
   "metadata": {},
   "outputs": [
    {
     "data": {
      "text/html": [
       "<div>\n",
       "<style scoped>\n",
       "    .dataframe tbody tr th:only-of-type {\n",
       "        vertical-align: middle;\n",
       "    }\n",
       "\n",
       "    .dataframe tbody tr th {\n",
       "        vertical-align: top;\n",
       "    }\n",
       "\n",
       "    .dataframe thead th {\n",
       "        text-align: right;\n",
       "    }\n",
       "</style>\n",
       "<table border=\"1\" class=\"dataframe\">\n",
       "  <thead>\n",
       "    <tr style=\"text-align: right;\">\n",
       "      <th></th>\n",
       "      <th>canonical_smiles</th>\n",
       "      <th>molregno</th>\n",
       "      <th>synonyms</th>\n",
       "      <th>assay_id</th>\n",
       "      <th>standard_value</th>\n",
       "      <th>standard_type</th>\n",
       "      <th>standard_units</th>\n",
       "    </tr>\n",
       "  </thead>\n",
       "  <tbody>\n",
       "    <tr>\n",
       "      <th>0</th>\n",
       "      <td>O=C(O)c1ccc(N2C(=O)/C(=C/c3ccc(-c4ccc([N+](=O)...</td>\n",
       "      <td>1033892</td>\n",
       "      <td>NaN</td>\n",
       "      <td>1804482</td>\n",
       "      <td>8.709636e+06</td>\n",
       "      <td>IC50</td>\n",
       "      <td>nM</td>\n",
       "    </tr>\n",
       "    <tr>\n",
       "      <th>1</th>\n",
       "      <td>O=C(O)/C(Cc1ccccc1[N+](=O)[O-])=N\\Nc1nc(-c2ccc...</td>\n",
       "      <td>425006</td>\n",
       "      <td>NaN</td>\n",
       "      <td>1804482</td>\n",
       "      <td>2.089300e+03</td>\n",
       "      <td>IC50</td>\n",
       "      <td>nM</td>\n",
       "    </tr>\n",
       "    <tr>\n",
       "      <th>2</th>\n",
       "      <td>CCNC(=O)c1cc2c(-c3cc(C(C)(C)O)ccc3Oc3c(C)cc(F)...</td>\n",
       "      <td>2335425</td>\n",
       "      <td>NaN</td>\n",
       "      <td>1804482</td>\n",
       "      <td>3.467368e+06</td>\n",
       "      <td>IC50</td>\n",
       "      <td>nM</td>\n",
       "    </tr>\n",
       "    <tr>\n",
       "      <th>3</th>\n",
       "      <td>CCC(=O)CCCCC[C@@H]1NC(=O)[C@H]2CCCCN2C(=O)[C@H...</td>\n",
       "      <td>275631</td>\n",
       "      <td>NaN</td>\n",
       "      <td>1804482</td>\n",
       "      <td>9.996846e+08</td>\n",
       "      <td>IC50</td>\n",
       "      <td>nM</td>\n",
       "    </tr>\n",
       "    <tr>\n",
       "      <th>4</th>\n",
       "      <td>C[C@@H](C1CCCCC1)n1c(-c2cc3c(cc2Br)OCO3)nc2cc(...</td>\n",
       "      <td>2260454</td>\n",
       "      <td>NaN</td>\n",
       "      <td>1804482</td>\n",
       "      <td>6.025600e+02</td>\n",
       "      <td>IC50</td>\n",
       "      <td>nM</td>\n",
       "    </tr>\n",
       "    <tr>\n",
       "      <th>...</th>\n",
       "      <td>...</td>\n",
       "      <td>...</td>\n",
       "      <td>...</td>\n",
       "      <td>...</td>\n",
       "      <td>...</td>\n",
       "      <td>...</td>\n",
       "      <td>...</td>\n",
       "    </tr>\n",
       "    <tr>\n",
       "      <th>9780</th>\n",
       "      <td>CCN(CC)CCCC(C)Nc1ccnc2cc(Cl)ccc12.O=P(O)(O)O</td>\n",
       "      <td>270724</td>\n",
       "      <td>NaN</td>\n",
       "      <td>1804587</td>\n",
       "      <td>1.300000e+06</td>\n",
       "      <td>Viral titer</td>\n",
       "      <td>PFU.mL-1</td>\n",
       "    </tr>\n",
       "    <tr>\n",
       "      <th>9781</th>\n",
       "      <td>CN(C)CCCN1c2ccccc2Sc2ccc(Cl)cc21.Cl</td>\n",
       "      <td>550303</td>\n",
       "      <td>Chlorpromazine HCl</td>\n",
       "      <td>1804587</td>\n",
       "      <td>1.100000e+06</td>\n",
       "      <td>Viral titer</td>\n",
       "      <td>PFU.mL-1</td>\n",
       "    </tr>\n",
       "    <tr>\n",
       "      <th>9782</th>\n",
       "      <td>CCN(CC)CCCC(C)Nc1ccnc2cc(Cl)ccc12.O=P(O)(O)O</td>\n",
       "      <td>270724</td>\n",
       "      <td>NaN</td>\n",
       "      <td>1804587</td>\n",
       "      <td>1.400000e+06</td>\n",
       "      <td>Viral titer</td>\n",
       "      <td>PFU.mL-1</td>\n",
       "    </tr>\n",
       "    <tr>\n",
       "      <th>9783</th>\n",
       "      <td>CN(C)CCCN1c2ccccc2Sc2ccc(Cl)cc21.Cl</td>\n",
       "      <td>550303</td>\n",
       "      <td>Chlorpromazine HCl</td>\n",
       "      <td>1804587</td>\n",
       "      <td>1.100000e+06</td>\n",
       "      <td>Viral titer</td>\n",
       "      <td>PFU.mL-1</td>\n",
       "    </tr>\n",
       "    <tr>\n",
       "      <th>9784</th>\n",
       "      <td>CN(C)CCCN1c2ccccc2Sc2ccc(Cl)cc21.Cl</td>\n",
       "      <td>550303</td>\n",
       "      <td>Chlorpromazine HCl</td>\n",
       "      <td>1804587</td>\n",
       "      <td>1.050000e+06</td>\n",
       "      <td>Viral titer</td>\n",
       "      <td>PFU.mL-1</td>\n",
       "    </tr>\n",
       "  </tbody>\n",
       "</table>\n",
       "<p>9785 rows × 7 columns</p>\n",
       "</div>"
      ],
      "text/plain": [
       "                                       canonical_smiles  molregno  \\\n",
       "0     O=C(O)c1ccc(N2C(=O)/C(=C/c3ccc(-c4ccc([N+](=O)...   1033892   \n",
       "1     O=C(O)/C(Cc1ccccc1[N+](=O)[O-])=N\\Nc1nc(-c2ccc...    425006   \n",
       "2     CCNC(=O)c1cc2c(-c3cc(C(C)(C)O)ccc3Oc3c(C)cc(F)...   2335425   \n",
       "3     CCC(=O)CCCCC[C@@H]1NC(=O)[C@H]2CCCCN2C(=O)[C@H...    275631   \n",
       "4     C[C@@H](C1CCCCC1)n1c(-c2cc3c(cc2Br)OCO3)nc2cc(...   2260454   \n",
       "...                                                 ...       ...   \n",
       "9780       CCN(CC)CCCC(C)Nc1ccnc2cc(Cl)ccc12.O=P(O)(O)O    270724   \n",
       "9781                CN(C)CCCN1c2ccccc2Sc2ccc(Cl)cc21.Cl    550303   \n",
       "9782       CCN(CC)CCCC(C)Nc1ccnc2cc(Cl)ccc12.O=P(O)(O)O    270724   \n",
       "9783                CN(C)CCCN1c2ccccc2Sc2ccc(Cl)cc21.Cl    550303   \n",
       "9784                CN(C)CCCN1c2ccccc2Sc2ccc(Cl)cc21.Cl    550303   \n",
       "\n",
       "                synonyms  assay_id  standard_value standard_type  \\\n",
       "0                    NaN   1804482    8.709636e+06          IC50   \n",
       "1                    NaN   1804482    2.089300e+03          IC50   \n",
       "2                    NaN   1804482    3.467368e+06          IC50   \n",
       "3                    NaN   1804482    9.996846e+08          IC50   \n",
       "4                    NaN   1804482    6.025600e+02          IC50   \n",
       "...                  ...       ...             ...           ...   \n",
       "9780                 NaN   1804587    1.300000e+06   Viral titer   \n",
       "9781  Chlorpromazine HCl   1804587    1.100000e+06   Viral titer   \n",
       "9782                 NaN   1804587    1.400000e+06   Viral titer   \n",
       "9783  Chlorpromazine HCl   1804587    1.100000e+06   Viral titer   \n",
       "9784  Chlorpromazine HCl   1804587    1.050000e+06   Viral titer   \n",
       "\n",
       "     standard_units  \n",
       "0                nM  \n",
       "1                nM  \n",
       "2                nM  \n",
       "3                nM  \n",
       "4                nM  \n",
       "...             ...  \n",
       "9780       PFU.mL-1  \n",
       "9781       PFU.mL-1  \n",
       "9782       PFU.mL-1  \n",
       "9783       PFU.mL-1  \n",
       "9784       PFU.mL-1  \n",
       "\n",
       "[9785 rows x 7 columns]"
      ]
     },
     "execution_count": 7,
     "metadata": {},
     "output_type": "execute_result"
    }
   ],
   "source": [
    "df"
   ]
  },
  {
   "cell_type": "markdown",
   "metadata": {},
   "source": [
    "Fill in molregno where synonyms is null"
   ]
  },
  {
   "cell_type": "code",
   "execution_count": 35,
   "metadata": {},
   "outputs": [],
   "source": [
    "df.synonyms = df.synonyms.fillna(df.molregno)\n",
    "df.synonyms = [str(x) for x in df.synonyms]"
   ]
  },
  {
   "cell_type": "markdown",
   "metadata": {},
   "source": [
    "Check the dataframe again, wow, that's cool!"
   ]
  },
  {
   "cell_type": "code",
   "execution_count": 36,
   "metadata": {},
   "outputs": [
    {
     "data": {
      "text/html": [
       "<div>\n",
       "<style scoped>\n",
       "    .dataframe tbody tr th:only-of-type {\n",
       "        vertical-align: middle;\n",
       "    }\n",
       "\n",
       "    .dataframe tbody tr th {\n",
       "        vertical-align: top;\n",
       "    }\n",
       "\n",
       "    .dataframe thead th {\n",
       "        text-align: right;\n",
       "    }\n",
       "</style>\n",
       "<table border=\"1\" class=\"dataframe\">\n",
       "  <thead>\n",
       "    <tr style=\"text-align: right;\">\n",
       "      <th></th>\n",
       "      <th>canonical_smiles</th>\n",
       "      <th>molregno</th>\n",
       "      <th>synonyms</th>\n",
       "      <th>assay_id</th>\n",
       "      <th>standard_value</th>\n",
       "      <th>standard_type</th>\n",
       "      <th>standard_units</th>\n",
       "    </tr>\n",
       "  </thead>\n",
       "  <tbody>\n",
       "    <tr>\n",
       "      <th>0</th>\n",
       "      <td>O=C(O)c1ccc(N2C(=O)/C(=C/c3ccc(-c4ccc([N+](=O)...</td>\n",
       "      <td>1033892</td>\n",
       "      <td>1033892</td>\n",
       "      <td>1804482</td>\n",
       "      <td>8.709636e+06</td>\n",
       "      <td>IC50</td>\n",
       "      <td>nM</td>\n",
       "    </tr>\n",
       "    <tr>\n",
       "      <th>1</th>\n",
       "      <td>O=C(O)/C(Cc1ccccc1[N+](=O)[O-])=N\\Nc1nc(-c2ccc...</td>\n",
       "      <td>425006</td>\n",
       "      <td>425006</td>\n",
       "      <td>1804482</td>\n",
       "      <td>2.089300e+03</td>\n",
       "      <td>IC50</td>\n",
       "      <td>nM</td>\n",
       "    </tr>\n",
       "    <tr>\n",
       "      <th>2</th>\n",
       "      <td>CCNC(=O)c1cc2c(-c3cc(C(C)(C)O)ccc3Oc3c(C)cc(F)...</td>\n",
       "      <td>2335425</td>\n",
       "      <td>2335425</td>\n",
       "      <td>1804482</td>\n",
       "      <td>3.467368e+06</td>\n",
       "      <td>IC50</td>\n",
       "      <td>nM</td>\n",
       "    </tr>\n",
       "    <tr>\n",
       "      <th>3</th>\n",
       "      <td>CCC(=O)CCCCC[C@@H]1NC(=O)[C@H]2CCCCN2C(=O)[C@H...</td>\n",
       "      <td>275631</td>\n",
       "      <td>275631</td>\n",
       "      <td>1804482</td>\n",
       "      <td>9.996846e+08</td>\n",
       "      <td>IC50</td>\n",
       "      <td>nM</td>\n",
       "    </tr>\n",
       "    <tr>\n",
       "      <th>4</th>\n",
       "      <td>C[C@@H](C1CCCCC1)n1c(-c2cc3c(cc2Br)OCO3)nc2cc(...</td>\n",
       "      <td>2260454</td>\n",
       "      <td>2260454</td>\n",
       "      <td>1804482</td>\n",
       "      <td>6.025600e+02</td>\n",
       "      <td>IC50</td>\n",
       "      <td>nM</td>\n",
       "    </tr>\n",
       "    <tr>\n",
       "      <th>...</th>\n",
       "      <td>...</td>\n",
       "      <td>...</td>\n",
       "      <td>...</td>\n",
       "      <td>...</td>\n",
       "      <td>...</td>\n",
       "      <td>...</td>\n",
       "      <td>...</td>\n",
       "    </tr>\n",
       "    <tr>\n",
       "      <th>9780</th>\n",
       "      <td>CCN(CC)CCCC(C)Nc1ccnc2cc(Cl)ccc12.O=P(O)(O)O</td>\n",
       "      <td>270724</td>\n",
       "      <td>270724</td>\n",
       "      <td>1804587</td>\n",
       "      <td>1.300000e+06</td>\n",
       "      <td>Viral titer</td>\n",
       "      <td>PFU.mL-1</td>\n",
       "    </tr>\n",
       "    <tr>\n",
       "      <th>9781</th>\n",
       "      <td>CN(C)CCCN1c2ccccc2Sc2ccc(Cl)cc21.Cl</td>\n",
       "      <td>550303</td>\n",
       "      <td>Chlorpromazine HCl</td>\n",
       "      <td>1804587</td>\n",
       "      <td>1.100000e+06</td>\n",
       "      <td>Viral titer</td>\n",
       "      <td>PFU.mL-1</td>\n",
       "    </tr>\n",
       "    <tr>\n",
       "      <th>9782</th>\n",
       "      <td>CCN(CC)CCCC(C)Nc1ccnc2cc(Cl)ccc12.O=P(O)(O)O</td>\n",
       "      <td>270724</td>\n",
       "      <td>270724</td>\n",
       "      <td>1804587</td>\n",
       "      <td>1.400000e+06</td>\n",
       "      <td>Viral titer</td>\n",
       "      <td>PFU.mL-1</td>\n",
       "    </tr>\n",
       "    <tr>\n",
       "      <th>9783</th>\n",
       "      <td>CN(C)CCCN1c2ccccc2Sc2ccc(Cl)cc21.Cl</td>\n",
       "      <td>550303</td>\n",
       "      <td>Chlorpromazine HCl</td>\n",
       "      <td>1804587</td>\n",
       "      <td>1.100000e+06</td>\n",
       "      <td>Viral titer</td>\n",
       "      <td>PFU.mL-1</td>\n",
       "    </tr>\n",
       "    <tr>\n",
       "      <th>9784</th>\n",
       "      <td>CN(C)CCCN1c2ccccc2Sc2ccc(Cl)cc21.Cl</td>\n",
       "      <td>550303</td>\n",
       "      <td>Chlorpromazine HCl</td>\n",
       "      <td>1804587</td>\n",
       "      <td>1.050000e+06</td>\n",
       "      <td>Viral titer</td>\n",
       "      <td>PFU.mL-1</td>\n",
       "    </tr>\n",
       "  </tbody>\n",
       "</table>\n",
       "<p>9785 rows × 7 columns</p>\n",
       "</div>"
      ],
      "text/plain": [
       "                                       canonical_smiles  molregno  \\\n",
       "0     O=C(O)c1ccc(N2C(=O)/C(=C/c3ccc(-c4ccc([N+](=O)...   1033892   \n",
       "1     O=C(O)/C(Cc1ccccc1[N+](=O)[O-])=N\\Nc1nc(-c2ccc...    425006   \n",
       "2     CCNC(=O)c1cc2c(-c3cc(C(C)(C)O)ccc3Oc3c(C)cc(F)...   2335425   \n",
       "3     CCC(=O)CCCCC[C@@H]1NC(=O)[C@H]2CCCCN2C(=O)[C@H...    275631   \n",
       "4     C[C@@H](C1CCCCC1)n1c(-c2cc3c(cc2Br)OCO3)nc2cc(...   2260454   \n",
       "...                                                 ...       ...   \n",
       "9780       CCN(CC)CCCC(C)Nc1ccnc2cc(Cl)ccc12.O=P(O)(O)O    270724   \n",
       "9781                CN(C)CCCN1c2ccccc2Sc2ccc(Cl)cc21.Cl    550303   \n",
       "9782       CCN(CC)CCCC(C)Nc1ccnc2cc(Cl)ccc12.O=P(O)(O)O    270724   \n",
       "9783                CN(C)CCCN1c2ccccc2Sc2ccc(Cl)cc21.Cl    550303   \n",
       "9784                CN(C)CCCN1c2ccccc2Sc2ccc(Cl)cc21.Cl    550303   \n",
       "\n",
       "                synonyms  assay_id  standard_value standard_type  \\\n",
       "0                1033892   1804482    8.709636e+06          IC50   \n",
       "1                 425006   1804482    2.089300e+03          IC50   \n",
       "2                2335425   1804482    3.467368e+06          IC50   \n",
       "3                 275631   1804482    9.996846e+08          IC50   \n",
       "4                2260454   1804482    6.025600e+02          IC50   \n",
       "...                  ...       ...             ...           ...   \n",
       "9780              270724   1804587    1.300000e+06   Viral titer   \n",
       "9781  Chlorpromazine HCl   1804587    1.100000e+06   Viral titer   \n",
       "9782              270724   1804587    1.400000e+06   Viral titer   \n",
       "9783  Chlorpromazine HCl   1804587    1.100000e+06   Viral titer   \n",
       "9784  Chlorpromazine HCl   1804587    1.050000e+06   Viral titer   \n",
       "\n",
       "     standard_units  \n",
       "0                nM  \n",
       "1                nM  \n",
       "2                nM  \n",
       "3                nM  \n",
       "4                nM  \n",
       "...             ...  \n",
       "9780       PFU.mL-1  \n",
       "9781       PFU.mL-1  \n",
       "9782       PFU.mL-1  \n",
       "9783       PFU.mL-1  \n",
       "9784       PFU.mL-1  \n",
       "\n",
       "[9785 rows x 7 columns]"
      ]
     },
     "execution_count": 36,
     "metadata": {},
     "output_type": "execute_result"
    }
   ],
   "source": [
    "df"
   ]
  },
  {
   "cell_type": "markdown",
   "metadata": {},
   "source": [
    "How many unique molecules are in the dataset? "
   ]
  },
  {
   "cell_type": "code",
   "execution_count": 37,
   "metadata": {},
   "outputs": [
    {
     "data": {
      "text/plain": [
       "6843"
      ]
     },
     "execution_count": 37,
     "metadata": {},
     "output_type": "execute_result"
    }
   ],
   "source": [
    "len(df.molregno.unique())"
   ]
  },
  {
   "cell_type": "markdown",
   "metadata": {},
   "source": [
    "How many unique units are in the dataset? "
   ]
  },
  {
   "cell_type": "code",
   "execution_count": 38,
   "metadata": {},
   "outputs": [
    {
     "data": {
      "text/plain": [
       "%           5649\n",
       "nM           466\n",
       "uM            12\n",
       "PFU.mL-1       7\n",
       "Name: standard_units, dtype: int64"
      ]
     },
     "execution_count": 38,
     "metadata": {},
     "output_type": "execute_result"
    }
   ],
   "source": [
    "df.standard_units.value_counts()"
   ]
  },
  {
   "cell_type": "markdown",
   "metadata": {},
   "source": [
    "Limit our analysis to data where the units are nM"
   ]
  },
  {
   "cell_type": "code",
   "execution_count": 39,
   "metadata": {},
   "outputs": [],
   "source": [
    "df_nM = df.query(\"standard_units == 'nM'\")"
   ]
  },
  {
   "cell_type": "markdown",
   "metadata": {},
   "source": [
    "How many records are in df_nM"
   ]
  },
  {
   "cell_type": "code",
   "execution_count": 40,
   "metadata": {},
   "outputs": [
    {
     "data": {
      "text/plain": [
       "(466, 7)"
      ]
     },
     "execution_count": 40,
     "metadata": {},
     "output_type": "execute_result"
    }
   ],
   "source": [
    "df_nM.shape"
   ]
  },
  {
   "cell_type": "markdown",
   "metadata": {},
   "source": [
    "How many different datatypes are in df_nM"
   ]
  },
  {
   "cell_type": "code",
   "execution_count": 41,
   "metadata": {},
   "outputs": [
    {
     "data": {
      "text/plain": [
       "IC50    204\n",
       "CC50    165\n",
       "Ki       59\n",
       "EC50     35\n",
       "IC90      3\n",
       "Name: standard_type, dtype: int64"
      ]
     },
     "execution_count": 41,
     "metadata": {},
     "output_type": "execute_result"
    }
   ],
   "source": [
    "df_nM.standard_type.value_counts()"
   ]
  },
  {
   "cell_type": "markdown",
   "metadata": {},
   "source": [
    "Many times does each molecule appear in df_nM"
   ]
  },
  {
   "cell_type": "code",
   "execution_count": 42,
   "metadata": {},
   "outputs": [
    {
     "data": {
      "text/plain": [
       "429737     13\n",
       "6579       13\n",
       "80081      13\n",
       "2228183    12\n",
       "469763     12\n",
       "           ..\n",
       "230659      1\n",
       "2335425     1\n",
       "675012      1\n",
       "1047410     1\n",
       "1566719     1\n",
       "Name: molregno, Length: 213, dtype: int64"
      ]
     },
     "execution_count": 42,
     "metadata": {},
     "output_type": "execute_result"
    }
   ],
   "source": [
    "df_nM.molregno.value_counts()"
   ]
  },
  {
   "cell_type": "markdown",
   "metadata": {},
   "source": [
    "How many datapoints do we have for each assay"
   ]
  },
  {
   "cell_type": "code",
   "execution_count": 43,
   "metadata": {},
   "outputs": [
    {
     "data": {
      "text/plain": [
       "1804559    67\n",
       "1804560    67\n",
       "1804482    56\n",
       "1804566    47\n",
       "1804565    47\n",
       "1804580    20\n",
       "1804577    20\n",
       "1804568    18\n",
       "1804576    17\n",
       "1804579    17\n",
       "1804573    17\n",
       "1804574    11\n",
       "1804490     7\n",
       "1804491     7\n",
       "1804492     5\n",
       "1804485     5\n",
       "1804487     5\n",
       "1804551     5\n",
       "1804493     5\n",
       "1804550     5\n",
       "1804552     5\n",
       "1804553     5\n",
       "1804555     5\n",
       "1804554     3\n",
       "Name: assay_id, dtype: int64"
      ]
     },
     "execution_count": 43,
     "metadata": {},
     "output_type": "execute_result"
    }
   ],
   "source": [
    "df_nM.assay_id.value_counts()"
   ]
  },
  {
   "cell_type": "markdown",
   "metadata": {},
   "source": [
    "Take a look at df_nM"
   ]
  },
  {
   "cell_type": "code",
   "execution_count": 44,
   "metadata": {},
   "outputs": [
    {
     "data": {
      "text/html": [
       "<div>\n",
       "<style scoped>\n",
       "    .dataframe tbody tr th:only-of-type {\n",
       "        vertical-align: middle;\n",
       "    }\n",
       "\n",
       "    .dataframe tbody tr th {\n",
       "        vertical-align: top;\n",
       "    }\n",
       "\n",
       "    .dataframe thead th {\n",
       "        text-align: right;\n",
       "    }\n",
       "</style>\n",
       "<table border=\"1\" class=\"dataframe\">\n",
       "  <thead>\n",
       "    <tr style=\"text-align: right;\">\n",
       "      <th></th>\n",
       "      <th>canonical_smiles</th>\n",
       "      <th>molregno</th>\n",
       "      <th>synonyms</th>\n",
       "      <th>assay_id</th>\n",
       "      <th>standard_value</th>\n",
       "      <th>standard_type</th>\n",
       "      <th>standard_units</th>\n",
       "    </tr>\n",
       "  </thead>\n",
       "  <tbody>\n",
       "    <tr>\n",
       "      <th>0</th>\n",
       "      <td>O=C(O)c1ccc(N2C(=O)/C(=C/c3ccc(-c4ccc([N+](=O)...</td>\n",
       "      <td>1033892</td>\n",
       "      <td>1033892</td>\n",
       "      <td>1804482</td>\n",
       "      <td>8.709636e+06</td>\n",
       "      <td>IC50</td>\n",
       "      <td>nM</td>\n",
       "    </tr>\n",
       "    <tr>\n",
       "      <th>1</th>\n",
       "      <td>O=C(O)/C(Cc1ccccc1[N+](=O)[O-])=N\\Nc1nc(-c2ccc...</td>\n",
       "      <td>425006</td>\n",
       "      <td>425006</td>\n",
       "      <td>1804482</td>\n",
       "      <td>2.089300e+03</td>\n",
       "      <td>IC50</td>\n",
       "      <td>nM</td>\n",
       "    </tr>\n",
       "    <tr>\n",
       "      <th>2</th>\n",
       "      <td>CCNC(=O)c1cc2c(-c3cc(C(C)(C)O)ccc3Oc3c(C)cc(F)...</td>\n",
       "      <td>2335425</td>\n",
       "      <td>2335425</td>\n",
       "      <td>1804482</td>\n",
       "      <td>3.467368e+06</td>\n",
       "      <td>IC50</td>\n",
       "      <td>nM</td>\n",
       "    </tr>\n",
       "    <tr>\n",
       "      <th>3</th>\n",
       "      <td>CCC(=O)CCCCC[C@@H]1NC(=O)[C@H]2CCCCN2C(=O)[C@H...</td>\n",
       "      <td>275631</td>\n",
       "      <td>275631</td>\n",
       "      <td>1804482</td>\n",
       "      <td>9.996846e+08</td>\n",
       "      <td>IC50</td>\n",
       "      <td>nM</td>\n",
       "    </tr>\n",
       "    <tr>\n",
       "      <th>4</th>\n",
       "      <td>C[C@@H](C1CCCCC1)n1c(-c2cc3c(cc2Br)OCO3)nc2cc(...</td>\n",
       "      <td>2260454</td>\n",
       "      <td>2260454</td>\n",
       "      <td>1804482</td>\n",
       "      <td>6.025600e+02</td>\n",
       "      <td>IC50</td>\n",
       "      <td>nM</td>\n",
       "    </tr>\n",
       "    <tr>\n",
       "      <th>...</th>\n",
       "      <td>...</td>\n",
       "      <td>...</td>\n",
       "      <td>...</td>\n",
       "      <td>...</td>\n",
       "      <td>...</td>\n",
       "      <td>...</td>\n",
       "      <td>...</td>\n",
       "    </tr>\n",
       "    <tr>\n",
       "      <th>9735</th>\n",
       "      <td>CC/C(=C(\\c1ccccc1)c1ccc(OCCN(C)C)cc1)c1ccccc1....</td>\n",
       "      <td>47340</td>\n",
       "      <td>Tamoxifen citrate</td>\n",
       "      <td>1804580</td>\n",
       "      <td>3.796000e+04</td>\n",
       "      <td>CC50</td>\n",
       "      <td>nM</td>\n",
       "    </tr>\n",
       "    <tr>\n",
       "      <th>9736</th>\n",
       "      <td>CC(C)N1CCN(c2ccc(OC[C@H]3CO[C@](Cn4cncn4)(c4cc...</td>\n",
       "      <td>259959</td>\n",
       "      <td>Terconazole</td>\n",
       "      <td>1804580</td>\n",
       "      <td>4.146000e+04</td>\n",
       "      <td>CC50</td>\n",
       "      <td>nM</td>\n",
       "    </tr>\n",
       "    <tr>\n",
       "      <th>9737</th>\n",
       "      <td>CCSc1ccc2c(c1)N(CCCN1CCN(C)CC1)c1ccccc1S2.O=C(...</td>\n",
       "      <td>2197349</td>\n",
       "      <td>Thiethylperazine Maleate</td>\n",
       "      <td>1804580</td>\n",
       "      <td>1.837000e+04</td>\n",
       "      <td>CC50</td>\n",
       "      <td>nM</td>\n",
       "    </tr>\n",
       "    <tr>\n",
       "      <th>9738</th>\n",
       "      <td>CN(C)CCOc1ccc(/C(=C(/CCCl)c2ccccc2)c2ccccc2)cc...</td>\n",
       "      <td>674626</td>\n",
       "      <td>Toremifene Citrate</td>\n",
       "      <td>1804580</td>\n",
       "      <td>2.051000e+04</td>\n",
       "      <td>CC50</td>\n",
       "      <td>nM</td>\n",
       "    </tr>\n",
       "    <tr>\n",
       "      <th>9739</th>\n",
       "      <td>CCN(CC)CCOc1ccc(C(O)(Cc2ccc(Cl)cc2)c2ccc(C)cc2...</td>\n",
       "      <td>316600</td>\n",
       "      <td>316600</td>\n",
       "      <td>1804580</td>\n",
       "      <td>2.121000e+04</td>\n",
       "      <td>CC50</td>\n",
       "      <td>nM</td>\n",
       "    </tr>\n",
       "  </tbody>\n",
       "</table>\n",
       "<p>466 rows × 7 columns</p>\n",
       "</div>"
      ],
      "text/plain": [
       "                                       canonical_smiles  molregno  \\\n",
       "0     O=C(O)c1ccc(N2C(=O)/C(=C/c3ccc(-c4ccc([N+](=O)...   1033892   \n",
       "1     O=C(O)/C(Cc1ccccc1[N+](=O)[O-])=N\\Nc1nc(-c2ccc...    425006   \n",
       "2     CCNC(=O)c1cc2c(-c3cc(C(C)(C)O)ccc3Oc3c(C)cc(F)...   2335425   \n",
       "3     CCC(=O)CCCCC[C@@H]1NC(=O)[C@H]2CCCCN2C(=O)[C@H...    275631   \n",
       "4     C[C@@H](C1CCCCC1)n1c(-c2cc3c(cc2Br)OCO3)nc2cc(...   2260454   \n",
       "...                                                 ...       ...   \n",
       "9735  CC/C(=C(\\c1ccccc1)c1ccc(OCCN(C)C)cc1)c1ccccc1....     47340   \n",
       "9736  CC(C)N1CCN(c2ccc(OC[C@H]3CO[C@](Cn4cncn4)(c4cc...    259959   \n",
       "9737  CCSc1ccc2c(c1)N(CCCN1CCN(C)CC1)c1ccccc1S2.O=C(...   2197349   \n",
       "9738  CN(C)CCOc1ccc(/C(=C(/CCCl)c2ccccc2)c2ccccc2)cc...    674626   \n",
       "9739  CCN(CC)CCOc1ccc(C(O)(Cc2ccc(Cl)cc2)c2ccc(C)cc2...    316600   \n",
       "\n",
       "                      synonyms  assay_id  standard_value standard_type  \\\n",
       "0                      1033892   1804482    8.709636e+06          IC50   \n",
       "1                       425006   1804482    2.089300e+03          IC50   \n",
       "2                      2335425   1804482    3.467368e+06          IC50   \n",
       "3                       275631   1804482    9.996846e+08          IC50   \n",
       "4                      2260454   1804482    6.025600e+02          IC50   \n",
       "...                        ...       ...             ...           ...   \n",
       "9735         Tamoxifen citrate   1804580    3.796000e+04          CC50   \n",
       "9736               Terconazole   1804580    4.146000e+04          CC50   \n",
       "9737  Thiethylperazine Maleate   1804580    1.837000e+04          CC50   \n",
       "9738        Toremifene Citrate   1804580    2.051000e+04          CC50   \n",
       "9739                    316600   1804580    2.121000e+04          CC50   \n",
       "\n",
       "     standard_units  \n",
       "0                nM  \n",
       "1                nM  \n",
       "2                nM  \n",
       "3                nM  \n",
       "4                nM  \n",
       "...             ...  \n",
       "9735             nM  \n",
       "9736             nM  \n",
       "9737             nM  \n",
       "9738             nM  \n",
       "9739             nM  \n",
       "\n",
       "[466 rows x 7 columns]"
      ]
     },
     "execution_count": 44,
     "metadata": {},
     "output_type": "execute_result"
    }
   ],
   "source": [
    "df_nM"
   ]
  },
  {
   "cell_type": "markdown",
   "metadata": {},
   "source": [
    "Look at synonyms"
   ]
  },
  {
   "cell_type": "code",
   "execution_count": 45,
   "metadata": {},
   "outputs": [
    {
     "data": {
      "text/plain": [
       "0                        1033892\n",
       "1                         425006\n",
       "2                        2335425\n",
       "3                         275631\n",
       "4                        2260454\n",
       "                  ...           \n",
       "9735           Tamoxifen citrate\n",
       "9736                 Terconazole\n",
       "9737    Thiethylperazine Maleate\n",
       "9738          Toremifene Citrate\n",
       "9739                      316600\n",
       "Name: synonyms, Length: 466, dtype: object"
      ]
     },
     "execution_count": 45,
     "metadata": {},
     "output_type": "execute_result"
    }
   ],
   "source": [
    "df_nM.synonyms.dropna()"
   ]
  },
  {
   "cell_type": "code",
   "execution_count": 46,
   "metadata": {},
   "outputs": [],
   "source": [
    "unique_list = []\n",
    "grouping_cols = [\"canonical_smiles\",\"molregno\",\"synonyms\",\"assay_id\",\"standard_type\"]\n",
    "for k,v in df_nM.groupby(grouping_cols):\n",
    "    val = v.standard_value.mean()\n",
    "    unique_list.append(list(k)+[-np.log10(val*1e-9)])\n",
    "unique_df = pd.DataFrame(unique_list,columns=grouping_cols+[\"pX50\"])"
   ]
  },
  {
   "cell_type": "code",
   "execution_count": 47,
   "metadata": {},
   "outputs": [
    {
     "data": {
      "text/html": [
       "<div>\n",
       "<style scoped>\n",
       "    .dataframe tbody tr th:only-of-type {\n",
       "        vertical-align: middle;\n",
       "    }\n",
       "\n",
       "    .dataframe tbody tr th {\n",
       "        vertical-align: top;\n",
       "    }\n",
       "\n",
       "    .dataframe thead th {\n",
       "        text-align: right;\n",
       "    }\n",
       "</style>\n",
       "<table border=\"1\" class=\"dataframe\">\n",
       "  <thead>\n",
       "    <tr style=\"text-align: right;\">\n",
       "      <th></th>\n",
       "      <th>canonical_smiles</th>\n",
       "      <th>molregno</th>\n",
       "      <th>synonyms</th>\n",
       "      <th>assay_id</th>\n",
       "      <th>standard_type</th>\n",
       "      <th>pX50</th>\n",
       "    </tr>\n",
       "  </thead>\n",
       "  <tbody>\n",
       "    <tr>\n",
       "      <th>0</th>\n",
       "      <td>C/C(=N/Nc1nnc2c(n1)[nH]c1c(C)cccc12)c1ccccn1</td>\n",
       "      <td>1369075</td>\n",
       "      <td>1369075</td>\n",
       "      <td>1804559</td>\n",
       "      <td>IC50</td>\n",
       "      <td>6.619789</td>\n",
       "    </tr>\n",
       "    <tr>\n",
       "      <th>1</th>\n",
       "      <td>C/C(=N/Nc1nnc2c(n1)[nH]c1c(C)cccc12)c1ccccn1</td>\n",
       "      <td>1369075</td>\n",
       "      <td>1369075</td>\n",
       "      <td>1804560</td>\n",
       "      <td>CC50</td>\n",
       "      <td>7.221849</td>\n",
       "    </tr>\n",
       "    <tr>\n",
       "      <th>2</th>\n",
       "      <td>C/C(=N\\NC(=S)N1CCC1)c1ccccn1</td>\n",
       "      <td>1297777</td>\n",
       "      <td>1297777</td>\n",
       "      <td>1804559</td>\n",
       "      <td>IC50</td>\n",
       "      <td>7.698970</td>\n",
       "    </tr>\n",
       "    <tr>\n",
       "      <th>3</th>\n",
       "      <td>C/C(=N\\NC(=S)N1CCC1)c1ccccn1</td>\n",
       "      <td>1297777</td>\n",
       "      <td>1297777</td>\n",
       "      <td>1804560</td>\n",
       "      <td>CC50</td>\n",
       "      <td>7.698970</td>\n",
       "    </tr>\n",
       "    <tr>\n",
       "      <th>4</th>\n",
       "      <td>C/C=C/C[C@@H](C)[C@@H](O)[C@H]1C(=O)N[C@@H](CC...</td>\n",
       "      <td>72873</td>\n",
       "      <td>Cyclosporine</td>\n",
       "      <td>1804565</td>\n",
       "      <td>IC50</td>\n",
       "      <td>5.235077</td>\n",
       "    </tr>\n",
       "    <tr>\n",
       "      <th>...</th>\n",
       "      <td>...</td>\n",
       "      <td>...</td>\n",
       "      <td>...</td>\n",
       "      <td>...</td>\n",
       "      <td>...</td>\n",
       "      <td>...</td>\n",
       "    </tr>\n",
       "    <tr>\n",
       "      <th>455</th>\n",
       "      <td>S=C(NCc1ccc2c(c1)OCO2)N1CCN(c2ncnc3c2oc2ccccc2...</td>\n",
       "      <td>1376121</td>\n",
       "      <td>Amuvatinib</td>\n",
       "      <td>1804559</td>\n",
       "      <td>IC50</td>\n",
       "      <td>7.698970</td>\n",
       "    </tr>\n",
       "    <tr>\n",
       "      <th>456</th>\n",
       "      <td>S=C(NCc1ccc2c(c1)OCO2)N1CCN(c2ncnc3c2oc2ccccc2...</td>\n",
       "      <td>1376121</td>\n",
       "      <td>Amuvatinib</td>\n",
       "      <td>1804560</td>\n",
       "      <td>CC50</td>\n",
       "      <td>7.221849</td>\n",
       "    </tr>\n",
       "    <tr>\n",
       "      <th>457</th>\n",
       "      <td>c1ccc(CNc2nc(NCc3ccccc3)c3ccccc3n2)cc1</td>\n",
       "      <td>1047410</td>\n",
       "      <td>1047410</td>\n",
       "      <td>1804482</td>\n",
       "      <td>IC50</td>\n",
       "      <td>5.670000</td>\n",
       "    </tr>\n",
       "    <tr>\n",
       "      <th>458</th>\n",
       "      <td>c1ccc2c(c1)Sc1ccccc1N2CC1CN2CCC1CC2</td>\n",
       "      <td>112175</td>\n",
       "      <td>112175</td>\n",
       "      <td>1804565</td>\n",
       "      <td>IC50</td>\n",
       "      <td>5.137869</td>\n",
       "    </tr>\n",
       "    <tr>\n",
       "      <th>459</th>\n",
       "      <td>c1ccc2c(c1)Sc1ccccc1N2CC1CN2CCC1CC2</td>\n",
       "      <td>112175</td>\n",
       "      <td>112175</td>\n",
       "      <td>1804566</td>\n",
       "      <td>CC50</td>\n",
       "      <td>4.563201</td>\n",
       "    </tr>\n",
       "  </tbody>\n",
       "</table>\n",
       "<p>460 rows × 6 columns</p>\n",
       "</div>"
      ],
      "text/plain": [
       "                                      canonical_smiles  molregno  \\\n",
       "0         C/C(=N/Nc1nnc2c(n1)[nH]c1c(C)cccc12)c1ccccn1   1369075   \n",
       "1         C/C(=N/Nc1nnc2c(n1)[nH]c1c(C)cccc12)c1ccccn1   1369075   \n",
       "2                         C/C(=N\\NC(=S)N1CCC1)c1ccccn1   1297777   \n",
       "3                         C/C(=N\\NC(=S)N1CCC1)c1ccccn1   1297777   \n",
       "4    C/C=C/C[C@@H](C)[C@@H](O)[C@H]1C(=O)N[C@@H](CC...     72873   \n",
       "..                                                 ...       ...   \n",
       "455  S=C(NCc1ccc2c(c1)OCO2)N1CCN(c2ncnc3c2oc2ccccc2...   1376121   \n",
       "456  S=C(NCc1ccc2c(c1)OCO2)N1CCN(c2ncnc3c2oc2ccccc2...   1376121   \n",
       "457             c1ccc(CNc2nc(NCc3ccccc3)c3ccccc3n2)cc1   1047410   \n",
       "458                c1ccc2c(c1)Sc1ccccc1N2CC1CN2CCC1CC2    112175   \n",
       "459                c1ccc2c(c1)Sc1ccccc1N2CC1CN2CCC1CC2    112175   \n",
       "\n",
       "         synonyms  assay_id standard_type      pX50  \n",
       "0         1369075   1804559          IC50  6.619789  \n",
       "1         1369075   1804560          CC50  7.221849  \n",
       "2         1297777   1804559          IC50  7.698970  \n",
       "3         1297777   1804560          CC50  7.698970  \n",
       "4    Cyclosporine   1804565          IC50  5.235077  \n",
       "..            ...       ...           ...       ...  \n",
       "455    Amuvatinib   1804559          IC50  7.698970  \n",
       "456    Amuvatinib   1804560          CC50  7.221849  \n",
       "457       1047410   1804482          IC50  5.670000  \n",
       "458        112175   1804565          IC50  5.137869  \n",
       "459        112175   1804566          CC50  4.563201  \n",
       "\n",
       "[460 rows x 6 columns]"
      ]
     },
     "execution_count": 47,
     "metadata": {},
     "output_type": "execute_result"
    }
   ],
   "source": [
    "unique_df"
   ]
  },
  {
   "cell_type": "code",
   "execution_count": 48,
   "metadata": {},
   "outputs": [],
   "source": [
    "pivot_df = unique_df.pivot(index='synonyms',columns=\"assay_id\",values=\"pX50\")\n",
    "pivot_df['num_null'] = pivot_df.isnull().sum(axis=1).values\n",
    "pivot_df.sort_values(\"num_null\",inplace=True)\n",
    "pivot_df.drop('num_null', axis=1, inplace=True)"
   ]
  },
  {
   "cell_type": "code",
   "execution_count": 49,
   "metadata": {},
   "outputs": [
    {
     "data": {
      "text/html": [
       "<div>\n",
       "<style scoped>\n",
       "    .dataframe tbody tr th:only-of-type {\n",
       "        vertical-align: middle;\n",
       "    }\n",
       "\n",
       "    .dataframe tbody tr th {\n",
       "        vertical-align: top;\n",
       "    }\n",
       "\n",
       "    .dataframe thead th {\n",
       "        text-align: right;\n",
       "    }\n",
       "</style>\n",
       "<table border=\"1\" class=\"dataframe\">\n",
       "  <thead>\n",
       "    <tr style=\"text-align: right;\">\n",
       "      <th>assay_id</th>\n",
       "      <th>1804482</th>\n",
       "      <th>1804485</th>\n",
       "      <th>1804487</th>\n",
       "      <th>1804490</th>\n",
       "      <th>1804491</th>\n",
       "      <th>1804492</th>\n",
       "      <th>1804493</th>\n",
       "      <th>1804550</th>\n",
       "      <th>1804551</th>\n",
       "      <th>1804552</th>\n",
       "      <th>...</th>\n",
       "      <th>1804560</th>\n",
       "      <th>1804565</th>\n",
       "      <th>1804566</th>\n",
       "      <th>1804568</th>\n",
       "      <th>1804573</th>\n",
       "      <th>1804574</th>\n",
       "      <th>1804576</th>\n",
       "      <th>1804577</th>\n",
       "      <th>1804579</th>\n",
       "      <th>1804580</th>\n",
       "    </tr>\n",
       "    <tr>\n",
       "      <th>synonyms</th>\n",
       "      <th></th>\n",
       "      <th></th>\n",
       "      <th></th>\n",
       "      <th></th>\n",
       "      <th></th>\n",
       "      <th></th>\n",
       "      <th></th>\n",
       "      <th></th>\n",
       "      <th></th>\n",
       "      <th></th>\n",
       "      <th></th>\n",
       "      <th></th>\n",
       "      <th></th>\n",
       "      <th></th>\n",
       "      <th></th>\n",
       "      <th></th>\n",
       "      <th></th>\n",
       "      <th></th>\n",
       "      <th></th>\n",
       "      <th></th>\n",
       "      <th></th>\n",
       "    </tr>\n",
       "  </thead>\n",
       "  <tbody>\n",
       "    <tr>\n",
       "      <th>429737</th>\n",
       "      <td>6.170002</td>\n",
       "      <td>4.800000</td>\n",
       "      <td>4.810000</td>\n",
       "      <td>6.000000</td>\n",
       "      <td>6.900009</td>\n",
       "      <td>5.190000</td>\n",
       "      <td>4.14</td>\n",
       "      <td>5.290000</td>\n",
       "      <td>5.320000</td>\n",
       "      <td>5.260000</td>\n",
       "      <td>...</td>\n",
       "      <td>NaN</td>\n",
       "      <td>NaN</td>\n",
       "      <td>NaN</td>\n",
       "      <td>NaN</td>\n",
       "      <td>NaN</td>\n",
       "      <td>NaN</td>\n",
       "      <td>NaN</td>\n",
       "      <td>NaN</td>\n",
       "      <td>NaN</td>\n",
       "      <td>NaN</td>\n",
       "    </tr>\n",
       "    <tr>\n",
       "      <th>Chloroquine</th>\n",
       "      <td>NaN</td>\n",
       "      <td>5.000000</td>\n",
       "      <td>5.040000</td>\n",
       "      <td>6.299998</td>\n",
       "      <td>7.100015</td>\n",
       "      <td>5.360000</td>\n",
       "      <td>4.50</td>\n",
       "      <td>5.330000</td>\n",
       "      <td>5.480000</td>\n",
       "      <td>5.240000</td>\n",
       "      <td>...</td>\n",
       "      <td>NaN</td>\n",
       "      <td>5.137869</td>\n",
       "      <td>3.823909</td>\n",
       "      <td>NaN</td>\n",
       "      <td>NaN</td>\n",
       "      <td>NaN</td>\n",
       "      <td>NaN</td>\n",
       "      <td>NaN</td>\n",
       "      <td>NaN</td>\n",
       "      <td>NaN</td>\n",
       "    </tr>\n",
       "    <tr>\n",
       "      <th>80081</th>\n",
       "      <td>6.169001</td>\n",
       "      <td>6.320000</td>\n",
       "      <td>4.630000</td>\n",
       "      <td>8.599980</td>\n",
       "      <td>8.700057</td>\n",
       "      <td>5.820000</td>\n",
       "      <td>5.03</td>\n",
       "      <td>5.320000</td>\n",
       "      <td>4.710000</td>\n",
       "      <td>5.400000</td>\n",
       "      <td>...</td>\n",
       "      <td>NaN</td>\n",
       "      <td>NaN</td>\n",
       "      <td>NaN</td>\n",
       "      <td>NaN</td>\n",
       "      <td>NaN</td>\n",
       "      <td>NaN</td>\n",
       "      <td>NaN</td>\n",
       "      <td>NaN</td>\n",
       "      <td>NaN</td>\n",
       "      <td>NaN</td>\n",
       "    </tr>\n",
       "    <tr>\n",
       "      <th>2228183</th>\n",
       "      <td>4.941000</td>\n",
       "      <td>5.000000</td>\n",
       "      <td>4.500000</td>\n",
       "      <td>6.099999</td>\n",
       "      <td>8.700057</td>\n",
       "      <td>5.080000</td>\n",
       "      <td>4.69</td>\n",
       "      <td>4.620000</td>\n",
       "      <td>4.620000</td>\n",
       "      <td>4.610000</td>\n",
       "      <td>...</td>\n",
       "      <td>NaN</td>\n",
       "      <td>NaN</td>\n",
       "      <td>NaN</td>\n",
       "      <td>NaN</td>\n",
       "      <td>NaN</td>\n",
       "      <td>NaN</td>\n",
       "      <td>NaN</td>\n",
       "      <td>NaN</td>\n",
       "      <td>NaN</td>\n",
       "      <td>NaN</td>\n",
       "    </tr>\n",
       "    <tr>\n",
       "      <th>Clemastine</th>\n",
       "      <td>5.670000</td>\n",
       "      <td>6.650004</td>\n",
       "      <td>7.700057</td>\n",
       "      <td>7.599980</td>\n",
       "      <td>8.000000</td>\n",
       "      <td>6.770011</td>\n",
       "      <td>6.32</td>\n",
       "      <td>6.929999</td>\n",
       "      <td>7.250032</td>\n",
       "      <td>7.270026</td>\n",
       "      <td>...</td>\n",
       "      <td>NaN</td>\n",
       "      <td>NaN</td>\n",
       "      <td>NaN</td>\n",
       "      <td>NaN</td>\n",
       "      <td>NaN</td>\n",
       "      <td>NaN</td>\n",
       "      <td>NaN</td>\n",
       "      <td>NaN</td>\n",
       "      <td>NaN</td>\n",
       "      <td>NaN</td>\n",
       "    </tr>\n",
       "  </tbody>\n",
       "</table>\n",
       "<p>5 rows × 24 columns</p>\n",
       "</div>"
      ],
      "text/plain": [
       "assay_id      1804482   1804485   1804487   1804490   1804491   1804492  \\\n",
       "synonyms                                                                  \n",
       "429737       6.170002  4.800000  4.810000  6.000000  6.900009  5.190000   \n",
       "Chloroquine       NaN  5.000000  5.040000  6.299998  7.100015  5.360000   \n",
       "80081        6.169001  6.320000  4.630000  8.599980  8.700057  5.820000   \n",
       "2228183      4.941000  5.000000  4.500000  6.099999  8.700057  5.080000   \n",
       "Clemastine   5.670000  6.650004  7.700057  7.599980  8.000000  6.770011   \n",
       "\n",
       "assay_id     1804493   1804550   1804551   1804552  ...  1804560   1804565  \\\n",
       "synonyms                                            ...                      \n",
       "429737          4.14  5.290000  5.320000  5.260000  ...      NaN       NaN   \n",
       "Chloroquine     4.50  5.330000  5.480000  5.240000  ...      NaN  5.137869   \n",
       "80081           5.03  5.320000  4.710000  5.400000  ...      NaN       NaN   \n",
       "2228183         4.69  4.620000  4.620000  4.610000  ...      NaN       NaN   \n",
       "Clemastine      6.32  6.929999  7.250032  7.270026  ...      NaN       NaN   \n",
       "\n",
       "assay_id      1804566  1804568  1804573  1804574  1804576  1804577  1804579  \\\n",
       "synonyms                                                                      \n",
       "429737            NaN      NaN      NaN      NaN      NaN      NaN      NaN   \n",
       "Chloroquine  3.823909      NaN      NaN      NaN      NaN      NaN      NaN   \n",
       "80081             NaN      NaN      NaN      NaN      NaN      NaN      NaN   \n",
       "2228183           NaN      NaN      NaN      NaN      NaN      NaN      NaN   \n",
       "Clemastine        NaN      NaN      NaN      NaN      NaN      NaN      NaN   \n",
       "\n",
       "assay_id     1804580  \n",
       "synonyms              \n",
       "429737           NaN  \n",
       "Chloroquine      NaN  \n",
       "80081            NaN  \n",
       "2228183          NaN  \n",
       "Clemastine       NaN  \n",
       "\n",
       "[5 rows x 24 columns]"
      ]
     },
     "execution_count": 49,
     "metadata": {},
     "output_type": "execute_result"
    }
   ],
   "source": [
    "pivot_df.head()"
   ]
  },
  {
   "cell_type": "code",
   "execution_count": 50,
   "metadata": {},
   "outputs": [
    {
     "data": {
      "text/plain": [
       "<matplotlib.axes._subplots.AxesSubplot at 0x7fe139fb1e90>"
      ]
     },
     "execution_count": 50,
     "metadata": {},
     "output_type": "execute_result"
    },
    {
     "data": {
      "image/png": "[encoded data removed]",
      "text/plain": [
       "<Figure size 1440x864 with 2 Axes>"
      ]
     },
     "metadata": {},
     "output_type": "display_data"
    }
   ],
   "source": [
    "cmap = sns.cm.rocket_r\n",
    "sns.set(rc={'figure.figsize': (20, 12)})\n",
    "sns.heatmap(pivot_df,cmap=cmap)"
   ]
  },
  {
   "cell_type": "code",
   "execution_count": 51,
   "metadata": {},
   "outputs": [
    {
     "data": {
      "image/svg+xml": [
       "<svg baseProfile=\"full\" height=\"0px\" version=\"1.1\" viewBox=\"0 0 1000 0\" width=\"1000px\" xml:space=\"preserve\" xmlns=\"http://www.w3.org/2000/svg\" xmlns:rdkit=\"http://www.rdkit.org/xml\" xmlns:xlink=\"http://www.w3.org/1999/xlink\">\n",
       "<!-- END OF HEADER -->\n",
       "</svg>"
      ],
      "text/plain": [
       "<IPython.core.display.SVG object>"
      ]
     },
     "execution_count": 51,
     "metadata": {},
     "output_type": "execute_result"
    }
   ],
   "source": [
    "top = df.molregno.isin(pivot_df.index[:10])\n",
    "MolsToGridImage([Chem.MolFromSmiles(x) for x in df[top].canonical_smiles.unique()],molsPerRow=5,useSVG=True)"
   ]
  },
  {
   "cell_type": "code",
   "execution_count": 52,
   "metadata": {},
   "outputs": [
    {
     "data": {
      "image/svg+xml": [
       "<svg baseProfile=\"full\" height=\"0px\" version=\"1.1\" viewBox=\"0 0 1000 0\" width=\"1000px\" xml:space=\"preserve\" xmlns=\"http://www.w3.org/2000/svg\" xmlns:rdkit=\"http://www.rdkit.org/xml\" xmlns:xlink=\"http://www.w3.org/1999/xlink\">\n",
       "<!-- END OF HEADER -->\n",
       "</svg>"
      ],
      "text/plain": [
       "<IPython.core.display.SVG object>"
      ]
     },
     "execution_count": 52,
     "metadata": {},
     "output_type": "execute_result"
    }
   ],
   "source": [
    "cols = pivot_df.shape[1]\n",
    "id_list = list(pivot_df.index[:10])\n",
    "id_df = df.query(f\"molregno in {id_list}\").drop_duplicates(\"molregno\").copy()\n",
    "id_df.synonyms.fillna(id_df.molregno,inplace=True)\n",
    "id_df.synonyms = id_df.synonyms.astype(str)\n",
    "num_assays = cols-pivot_df.isna().sum(axis=1)\n",
    "names = [f\"{x} {y}\" for x,y in zip(id_df.synonyms,num_assays)]\n",
    "MolsToGridImage([Chem.MolFromSmiles(x) for x in id_df.canonical_smiles],molsPerRow=5,legends=names,useSVG=True)"
   ]
  },
  {
   "cell_type": "code",
   "execution_count": 53,
   "metadata": {},
   "outputs": [
    {
     "data": {
      "text/plain": [
       "synonyms\n",
       "429737           13\n",
       "Chloroquine      13\n",
       "80081            13\n",
       "2228183          12\n",
       "Clemastine       12\n",
       "                 ..\n",
       "275631            1\n",
       "242691            1\n",
       "2341617           1\n",
       "Lisinopril        1\n",
       "Valproic acid     1\n",
       "Length: 214, dtype: int64"
      ]
     },
     "execution_count": 53,
     "metadata": {},
     "output_type": "execute_result"
    }
   ],
   "source": [
    "cols = pivot_df.shape[1]\n",
    "cols - pivot_df.isnull().sum(axis=1)"
   ]
  },
  {
   "cell_type": "code",
   "execution_count": 62,
   "metadata": {},
   "outputs": [],
   "source": [
    "synonym_list = sorted(unique_df.synonyms.unique())"
   ]
  },
  {
   "cell_type": "code",
   "execution_count": 63,
   "metadata": {},
   "outputs": [
    {
     "data": {
      "application/vnd.jupyter.widget-view+json": {
       "model_id": "5e17b8637a01410a864e72556cc7f408",
       "version_major": 2,
       "version_minor": 0
      },
      "text/plain": [
       "interactive(children=(Dropdown(description='name', options=('1033892', '1047410', '105299', '109185', '10989',…"
      ]
     },
     "metadata": {},
     "output_type": "display_data"
    }
   ],
   "source": [
    "@interact(name=synonym_list)\n",
    "def show_data(name):\n",
    "    query_str = f\"synonyms == '{name}'\"\n",
    "    return df_nM.query(query_str)"
   ]
  },
  {
   "cell_type": "code",
   "execution_count": null,
   "metadata": {},
   "outputs": [],
   "source": []
  }
 ],
 "metadata": {
  "kernelspec": {
   "display_name": "Python 3",
   "language": "python",
   "name": "python3"
  },
  "language_info": {
   "codemirror_mode": {
    "name": "ipython",
    "version": 3
   },
   "file_extension": ".py",
   "mimetype": "text/x-python",
   "name": "python",
   "nbconvert_exporter": "python",
   "pygments_lexer": "ipython3",
   "version": "3.7.6"
  }
 },
 "nbformat": 4,
 "nbformat_minor": 4
}
